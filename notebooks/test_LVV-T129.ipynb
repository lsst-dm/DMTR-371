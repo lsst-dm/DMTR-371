{
 "cells": [
  {
   "cell_type": "markdown",
   "id": "a4c7b041-d90f-476b-81e1-5fec9773e009",
   "metadata": {},
   "source": [
    "## Test notebook for Data Management Acceptance Test Campaign 1\n",
    "This test will be executed on the Rubin Science Platform Notebook Aspect at the Interim Data Facility, initialized with Science Pipelines release w_2022_32.\n",
    "\n",
    "### Test case LVV-T129: Verify implementation of Provide Calibrated Photometry\n",
    "\n",
    "Verify that the DMS provides photometry calibrated in AB mags and fluxes (in nJy) for all measured objects and sources. Must be tested for both DRP and AP products."
   ]
  },
  {
   "cell_type": "code",
   "execution_count": 1,
   "id": "330f2c5c-4a4f-4c1a-805d-3662e4359a91",
   "metadata": {},
   "outputs": [
    {
     "data": {
      "text/markdown": [
       "The service endpoint for TAP in this environment is:\n",
       "\n",
       " &#10145;&nbsp;&nbsp;   https://data.lsst.cloud/api/tap"
      ],
      "text/plain": [
       "<IPython.core.display.Markdown object>"
      ]
     },
     "execution_count": 1,
     "metadata": {},
     "output_type": "execute_result"
    }
   ],
   "source": [
    "from IPython.display import Markdown as md\n",
    "\n",
    "from lsst.rsp import get_tap_service, retrieve_query\n",
    "    \n",
    "service = get_tap_service()\n",
    "\n",
    "md(f'The service endpoint for TAP in this environment is:\\n\\n &#10145;&nbsp;&nbsp;   {service.baseurl}')"
   ]
  },
  {
   "cell_type": "markdown",
   "id": "26181ba8-382f-414d-ac20-53b525454012",
   "metadata": {},
   "source": [
    "#### Extract a small amount of data from the Object table:"
   ]
  },
  {
   "cell_type": "code",
   "execution_count": 2,
   "id": "fb394781-d7bd-4c81-8948-652bf306243c",
   "metadata": {},
   "outputs": [],
   "source": [
    "results = service.search(\"SELECT coord_ra, coord_dec, g_cModelFlux, r_cModelFlux, g_psfFlux \\\n",
    "                          FROM dp02_dc2_catalogs.Object \\\n",
    "                          WHERE CONTAINS(POINT('ICRS', coord_ra, coord_dec), \\\n",
    "                          CIRCLE('ICRS', 60.0, -30.0, 0.05)) = 1\")"
   ]
  },
  {
   "cell_type": "markdown",
   "id": "54593370-279d-4815-8b77-e393cb6175ef",
   "metadata": {},
   "source": [
    "#### Examine the table to confirm that fluxes are calibrated to nJy"
   ]
  },
  {
   "cell_type": "code",
   "execution_count": 3,
   "id": "b8f828f5-5f66-42ae-9913-27e90db8f45d",
   "metadata": {},
   "outputs": [
    {
     "data": {
      "text/html": [
       "<div><i>Table length=10</i>\n",
       "<table id=\"table140366948191056\" class=\"table-striped table-bordered table-condensed\">\n",
       "<thead><tr><th>coord_ra</th><th>coord_dec</th><th>g_cModelFlux</th><th>r_cModelFlux</th><th>g_psfFlux</th></tr></thead>\n",
       "<thead><tr><th>deg</th><th>deg</th><th>nJy</th><th>nJy</th><th>nJy</th></tr></thead>\n",
       "<thead><tr><th>float64</th><th>float64</th><th>float64</th><th>float64</th><th>float64</th></tr></thead>\n",
       "<tr><td>59.9987401</td><td>-29.9728812</td><td>62.7060123</td><td>49.3496319</td><td>54.6548462</td></tr>\n",
       "<tr><td>59.9995813</td><td>-29.9743232</td><td>166.0433743</td><td>394.8261645</td><td>136.6921604</td></tr>\n",
       "<tr><td>59.9989853</td><td>-29.9750457</td><td>78.9557388</td><td>85.2691232</td><td>78.6389713</td></tr>\n",
       "<tr><td>59.9993731</td><td>-29.9732406</td><td>111.0082072</td><td>165.6229656</td><td>69.8171469</td></tr>\n",
       "<tr><td>60.0477786</td><td>-29.9736805</td><td>68.4818592</td><td>49.4783714</td><td>59.2483406</td></tr>\n",
       "<tr><td>60.0400024</td><td>-29.9731507</td><td>52.0567337</td><td>114.2562171</td><td>42.9333247</td></tr>\n",
       "<tr><td>60.0054666</td><td>-29.9728639</td><td>146.053072</td><td>134.1795803</td><td>128.0482605</td></tr>\n",
       "<tr><td>60.00489</td><td>-29.9732239</td><td>1436.7150639</td><td>3606.8163133</td><td>1235.7175275</td></tr>\n",
       "<tr><td>60.0469583</td><td>-29.9735655</td><td>64.8838762</td><td>56.5677789</td><td>58.9683892</td></tr>\n",
       "<tr><td>60.0474217</td><td>-29.9728307</td><td>107.9183568</td><td>84.6152507</td><td>81.2377324</td></tr>\n",
       "</table></div>"
      ],
      "text/plain": [
       "<Table length=10>\n",
       " coord_ra   coord_dec  g_cModelFlux r_cModelFlux  g_psfFlux  \n",
       "   deg         deg         nJy          nJy          nJy     \n",
       " float64     float64     float64      float64      float64   \n",
       "---------- ----------- ------------ ------------ ------------\n",
       "59.9987401 -29.9728812   62.7060123   49.3496319   54.6548462\n",
       "59.9995813 -29.9743232  166.0433743  394.8261645  136.6921604\n",
       "59.9989853 -29.9750457   78.9557388   85.2691232   78.6389713\n",
       "59.9993731 -29.9732406  111.0082072  165.6229656   69.8171469\n",
       "60.0477786 -29.9736805   68.4818592   49.4783714   59.2483406\n",
       "60.0400024 -29.9731507   52.0567337  114.2562171   42.9333247\n",
       "60.0054666 -29.9728639   146.053072  134.1795803  128.0482605\n",
       "  60.00489 -29.9732239 1436.7150639 3606.8163133 1235.7175275\n",
       "60.0469583 -29.9735655   64.8838762   56.5677789   58.9683892\n",
       "60.0474217 -29.9728307  107.9183568   84.6152507   81.2377324"
      ]
     },
     "execution_count": 3,
     "metadata": {},
     "output_type": "execute_result"
    }
   ],
   "source": [
    "results.to_table()[:10]"
   ]
  },
  {
   "cell_type": "markdown",
   "id": "ba454520-ff0f-4166-8063-5991cbaae893",
   "metadata": {},
   "source": [
    "The second line of the above table confirms that all fluxes for the subset of columns extracted are in nanoJanskys; thus the requirement is met.\n",
    "\n",
    "The following cell demonstrates that these fluxes can be converted to AB magnitudes using Astropy unit conversions."
   ]
  },
  {
   "cell_type": "code",
   "execution_count": 4,
   "id": "f687fd32-07e1-466e-a20e-6f82a605ec40",
   "metadata": {},
   "outputs": [
    {
     "name": "stdout",
     "output_type": "stream",
     "text": [
      "[27.16679021 24.90898519 26.57302051 25.85219861 27.16396151 26.2553004\n",
      " 26.08078393 22.50718994 27.01857718 26.58137839] mag(AB)\n"
     ]
    }
   ],
   "source": [
    "import astropy.units as u\n",
    "\n",
    "fluxes_njy = results['r_cModelFlux'][:10]*u.nJy\n",
    "print(fluxes_njy.to(u.ABmag))"
   ]
  },
  {
   "cell_type": "markdown",
   "id": "60a84f8c-cfe2-4b71-ac4f-ccbfe98c6229",
   "metadata": {},
   "source": [
    "#### Extract a small amount of data from the DIAObject table:"
   ]
  },
  {
   "cell_type": "code",
   "execution_count": 5,
   "id": "1c0ac8a5-935c-470c-8f9c-0f006b77f1ec",
   "metadata": {},
   "outputs": [],
   "source": [
    "results = service.search(\"SELECT ra, decl, nDiaSources, \\\n",
    "                          gPSFluxMean, gPSFluxSigma, gTOTFluxMean \\\n",
    "                          FROM dp02_dc2_catalogs.DiaObject as obj \\\n",
    "                          WHERE CONTAINS(POINT('ICRS', ra, decl), \\\n",
    "                          CIRCLE('ICRS', 60.0, -30.0, 0.05)) = 1\")\n"
   ]
  },
  {
   "cell_type": "code",
   "execution_count": 6,
   "id": "95a9138a-aa68-46eb-b8a5-4ef163f17a3a",
   "metadata": {},
   "outputs": [
    {
     "data": {
      "text/html": [
       "<div><i>Table length=10</i>\n",
       "<table id=\"table140366951291280\" class=\"table-striped table-bordered table-condensed\">\n",
       "<thead><tr><th>ra</th><th>decl</th><th>nDiaSources</th><th>gPSFluxMean</th><th>gPSFluxSigma</th><th>gTOTFluxMean</th></tr></thead>\n",
       "<thead><tr><th>deg</th><th>deg</th><th></th><th></th><th></th><th></th></tr></thead>\n",
       "<thead><tr><th>float64</th><th>float64</th><th>int64</th><th>float64</th><th>float64</th><th>float64</th></tr></thead>\n",
       "<tr><td>59.9867708</td><td>-29.9646507</td><td>1</td><td>--</td><td>--</td><td>--</td></tr>\n",
       "<tr><td>60.0183395</td><td>-30.0441174</td><td>1</td><td>-852.8346964</td><td>--</td><td>9889.8494091</td></tr>\n",
       "<tr><td>60.0245221</td><td>-30.0268047</td><td>1</td><td>-774.0064484</td><td>--</td><td>-840.6078814</td></tr>\n",
       "<tr><td>60.0365449</td><td>-30.0134627</td><td>2</td><td>-517.230468</td><td>132.8331425</td><td>2674.5082007</td></tr>\n",
       "<tr><td>60.0277623</td><td>-29.9816485</td><td>1</td><td>-573.7850176</td><td>--</td><td>4702.9355927</td></tr>\n",
       "<tr><td>59.9921765</td><td>-30.0005468</td><td>2</td><td>461.5749731</td><td>148.3700861</td><td>4047.1771849</td></tr>\n",
       "<tr><td>59.9893313</td><td>-29.9855924</td><td>1</td><td>-588.1689431</td><td>--</td><td>3845.12634</td></tr>\n",
       "<tr><td>59.9726688</td><td>-29.9796388</td><td>1</td><td>552.3337271</td><td>--</td><td>1319.2515687</td></tr>\n",
       "<tr><td>59.9557998</td><td>-29.97911</td><td>1</td><td>549.7957907</td><td>--</td><td>673.3773364</td></tr>\n",
       "<tr><td>59.9986518</td><td>-29.9962184</td><td>1</td><td>--</td><td>--</td><td>--</td></tr>\n",
       "</table></div>"
      ],
      "text/plain": [
       "<Table length=10>\n",
       "    ra         decl    nDiaSources gPSFluxMean  gPSFluxSigma gTOTFluxMean\n",
       "   deg         deg                                                       \n",
       " float64     float64      int64      float64      float64      float64   \n",
       "---------- ----------- ----------- ------------ ------------ ------------\n",
       "59.9867708 -29.9646507           1           --           --           --\n",
       "60.0183395 -30.0441174           1 -852.8346964           -- 9889.8494091\n",
       "60.0245221 -30.0268047           1 -774.0064484           -- -840.6078814\n",
       "60.0365449 -30.0134627           2  -517.230468  132.8331425 2674.5082007\n",
       "60.0277623 -29.9816485           1 -573.7850176           -- 4702.9355927\n",
       "59.9921765 -30.0005468           2  461.5749731  148.3700861 4047.1771849\n",
       "59.9893313 -29.9855924           1 -588.1689431           --   3845.12634\n",
       "59.9726688 -29.9796388           1  552.3337271           -- 1319.2515687\n",
       "59.9557998   -29.97911           1  549.7957907           --  673.3773364\n",
       "59.9986518 -29.9962184           1           --           --           --"
      ]
     },
     "execution_count": 6,
     "metadata": {},
     "output_type": "execute_result"
    }
   ],
   "source": [
    "results.to_table()[0:10]"
   ]
  },
  {
   "cell_type": "markdown",
   "id": "200e2713-01b8-44b6-b78e-ee6b12698e68",
   "metadata": {
    "tags": []
   },
   "source": [
    "The units are not given in this table, nor are they provided in the schema at https://dm.lsst.org/sdm_schemas/browser/dp02.html#DiaObject. While it is likely that these fluxes have been calibrated to nJy, the lack of units in the database and schema lead us to classify this portion of the Test Case as *FAILED*."
   ]
  },
  {
   "cell_type": "code",
   "execution_count": null,
   "id": "250d7dc3-407f-4479-aa85-f426b8a3a925",
   "metadata": {},
   "outputs": [],
   "source": []
  }
 ],
 "metadata": {
  "kernelspec": {
   "display_name": "LSST",
   "language": "python",
   "name": "lsst"
  },
  "language_info": {
   "codemirror_mode": {
    "name": "ipython",
    "version": 3
   },
   "file_extension": ".py",
   "mimetype": "text/x-python",
   "name": "python",
   "nbconvert_exporter": "python",
   "pygments_lexer": "ipython3",
   "version": "3.10.5"
  }
 },
 "nbformat": 4,
 "nbformat_minor": 5
}
