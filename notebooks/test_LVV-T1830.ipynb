{
 "cells": [
  {
   "cell_type": "code",
   "execution_count": 1,
   "id": "648457a8-1798-4821-8f9f-e0b5f1113edd",
   "metadata": {},
   "outputs": [],
   "source": [
    "from lsst.daf.butler import Butler\n",
    "\n",
    "import matplotlib.pyplot as plt\n",
    "import numpy as np\n",
    "import os\n",
    "import lsst.afw.display as afwDisplay\n",
    "\n",
    "from firefly_client import FireflyClient"
   ]
  },
  {
   "cell_type": "code",
   "execution_count": 2,
   "id": "0c6ac886-068e-48f3-8357-7f02dfc4d747",
   "metadata": {},
   "outputs": [
    {
     "data": {
      "text/html": [
       "<pre style=\"margin: 0.1em;\n",
       "padding-left: 0.25em;\n",
       "border-left-style: solid;\n",
       "font-family: var(--jp-code-font-family);\n",
       "font-size: var(--jp-code-font-size);\n",
       "line-height: var(--jp-code-line-height);\n",
       "\"><span style=\"color: var(--jp-warn-color2)\">botocore.credentials</span> <span style=\"color: var(--jp-info-color0)\">INFO</span>: Found credentials in shared credentials file: /home/jeffcarlin/.lsst/aws-credentials.ini</pre>"
      ],
      "text/plain": [
       "<IPython.core.display.HTML object>"
      ]
     },
     "metadata": {},
     "output_type": "display_data"
    }
   ],
   "source": [
    "# For DP0.2 data on the IDF:                                                                                                           \n",
    "config = 'dp02'\n",
    "collection = '2.2i/runs/DP0.2'\n",
    "butler = Butler(config, collections=collection)"
   ]
  },
  {
   "cell_type": "code",
   "execution_count": 3,
   "id": "ff13394a-8157-4e86-9786-169a6ef4da12",
   "metadata": {},
   "outputs": [],
   "source": [
    "dataId = {'instrument': 'LSSTCam-imSim', 'detector': 180, 'visit': 888370, 'exposure':888370, 'band':'g'}"
   ]
  },
  {
   "cell_type": "code",
   "execution_count": 4,
   "id": "d65ca5fd-9671-497d-a44d-dbb29dc93318",
   "metadata": {},
   "outputs": [],
   "source": [
    "calexp = butler.get('calexp', dataId=dataId)\n"
   ]
  },
  {
   "cell_type": "code",
   "execution_count": 5,
   "id": "177c9989-93b4-4edf-b5e0-f195f9812297",
   "metadata": {},
   "outputs": [],
   "source": [
    "afwDisplay.setDefaultBackend('firefly')\n",
    "afw_display = afwDisplay.Display(frame=1)\n"
   ]
  },
  {
   "cell_type": "code",
   "execution_count": 6,
   "id": "f49977cb-dfe0-4d41-a7a4-03bbf2048fe4",
   "metadata": {},
   "outputs": [],
   "source": [
    "afw_display.mtv(calexp)"
   ]
  },
  {
   "cell_type": "code",
   "execution_count": null,
   "id": "eefddad8-1250-4efd-8159-e281ca275921",
   "metadata": {},
   "outputs": [],
   "source": []
  }
 ],
 "metadata": {
  "kernelspec": {
   "display_name": "LSST",
   "language": "python",
   "name": "lsst"
  },
  "language_info": {
   "codemirror_mode": {
    "name": "ipython",
    "version": 3
   },
   "file_extension": ".py",
   "mimetype": "text/x-python",
   "name": "python",
   "nbconvert_exporter": "python",
   "pygments_lexer": "ipython3",
   "version": "3.10.5"
  }
 },
 "nbformat": 4,
 "nbformat_minor": 5
}
