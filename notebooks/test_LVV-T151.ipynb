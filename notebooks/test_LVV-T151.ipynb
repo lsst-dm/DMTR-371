{
 "cells": [
  {
   "cell_type": "markdown",
   "id": "a4c7b041-d90f-476b-81e1-5fec9773e009",
   "metadata": {},
   "source": [
    "## Test notebook for Data Management Acceptance Test Campaign 1\n",
    "This test will be executed on the Rubin Science Platform Notebook Aspect at the Interim Data Facility, initialized with Science Pipelines release w_2022_32.\n",
    "\n",
    "### Test case LVV-T151: Verify implementation of Catalog Export Formats From the Notebook\n",
    "\n",
    "Verify that catalog data is exportable from the notebook aspect in a variety of community-standard formats."
   ]
  },
  {
   "cell_type": "code",
   "execution_count": 1,
   "id": "330f2c5c-4a4f-4c1a-805d-3662e4359a91",
   "metadata": {},
   "outputs": [
    {
     "data": {
      "text/markdown": [
       "The service endpoint for TAP in this environment is:\n",
       "\n",
       " &#10145;&nbsp;&nbsp;   https://data.lsst.cloud/api/tap"
      ],
      "text/plain": [
       "<IPython.core.display.Markdown object>"
      ]
     },
     "execution_count": 1,
     "metadata": {},
     "output_type": "execute_result"
    }
   ],
   "source": [
    "from IPython.display import Markdown as md\n",
    "\n",
    "from lsst.rsp import get_tap_service, retrieve_query\n",
    "    \n",
    "service = get_tap_service()\n",
    "\n",
    "md(f'The service endpoint for TAP in this environment is:\\n\\n &#10145;&nbsp;&nbsp;   {service.baseurl}')"
   ]
  },
  {
   "cell_type": "markdown",
   "id": "26181ba8-382f-414d-ac20-53b525454012",
   "metadata": {},
   "source": [
    "#### Extract a small amount of data from the Object table:"
   ]
  },
  {
   "cell_type": "code",
   "execution_count": 2,
   "id": "fb394781-d7bd-4c81-8948-652bf306243c",
   "metadata": {},
   "outputs": [],
   "source": [
    "results = service.search(\"SELECT coord_ra, coord_dec, g_cModelFlux, r_cModelFlux, g_psfFlux \\\n",
    "                          FROM dp02_dc2_catalogs.Object \\\n",
    "                          WHERE CONTAINS(POINT('ICRS', coord_ra, coord_dec), \\\n",
    "                          CIRCLE('ICRS', 60.0, -30.0, 0.05)) = 1\")"
   ]
  },
  {
   "cell_type": "markdown",
   "id": "54593370-279d-4815-8b77-e393cb6175ef",
   "metadata": {},
   "source": [
    "#### Convert the results to an astropy table, then write them in CSV, VOTable, and FITS formats"
   ]
  },
  {
   "cell_type": "code",
   "execution_count": 3,
   "id": "b8f828f5-5f66-42ae-9913-27e90db8f45d",
   "metadata": {},
   "outputs": [],
   "source": [
    "tab = results.to_table()"
   ]
  },
  {
   "cell_type": "code",
   "execution_count": 4,
   "id": "f687fd32-07e1-466e-a20e-6f82a605ec40",
   "metadata": {},
   "outputs": [],
   "source": [
    "tab.write('test.csv', format='ascii.csv')\n",
    "tab.write('test.vot', format='votable')\n",
    "tab.write('test.fits', format='fits')"
   ]
  },
  {
   "cell_type": "markdown",
   "id": "60a84f8c-cfe2-4b71-ac4f-ccbfe98c6229",
   "metadata": {},
   "source": [
    "#### Extract a small amount of data from the DIAObject table:"
   ]
  },
  {
   "cell_type": "code",
   "execution_count": 5,
   "id": "1c0ac8a5-935c-470c-8f9c-0f006b77f1ec",
   "metadata": {},
   "outputs": [
    {
     "name": "stdout",
     "output_type": "stream",
     "text": [
      "5533 5533 5533\n"
     ]
    }
   ],
   "source": [
    "from astropy.table import Table\n",
    "dat_csv = Table.read('test.csv', format='ascii.csv')\n",
    "dat_vot = Table.read('test.vot', format='votable')\n",
    "dat_fits = Table.read('test.fits', format='fits')\n",
    "\n",
    "import numpy as np\n",
    "print(np.size(dat_csv), np.size(dat_vot), np.size(dat_fits))"
   ]
  },
  {
   "cell_type": "markdown",
   "id": "c82782b6-0736-49fa-b796-6522f3a54871",
   "metadata": {},
   "source": [
    "This matches the expected output. We have thus verified the exporting of various file formats from the Notebook Aspect."
   ]
  }
 ],
 "metadata": {
  "kernelspec": {
   "display_name": "LSST",
   "language": "python",
   "name": "lsst"
  },
  "language_info": {
   "codemirror_mode": {
    "name": "ipython",
    "version": 3
   },
   "file_extension": ".py",
   "mimetype": "text/x-python",
   "name": "python",
   "nbconvert_exporter": "python",
   "pygments_lexer": "ipython3",
   "version": "3.10.5"
  }
 },
 "nbformat": 4,
 "nbformat_minor": 5
}
