{
 "cells": [
  {
   "cell_type": "markdown",
   "id": "a4c7b041-d90f-476b-81e1-5fec9773e009",
   "metadata": {},
   "source": [
    "## Test notebook for Data Management Acceptance Test Campaign 1\n",
    "This test will be executed on the Rubin Science Platform Notebook Aspect at the Interim Data Facility, initialized with Science Pipelines release w_2022_32.\n",
    "\n",
    "### Test case LVV-T42: Verify implementation of Processed Visit Image Content\n",
    "\n",
    "Verify that Processed Visit Images produced by the DRP and AP pipelines include the observed data, a mask array, a variance array, a PSF model, and a WCS model."
   ]
  },
  {
   "cell_type": "code",
   "execution_count": 1,
   "id": "330f2c5c-4a4f-4c1a-805d-3662e4359a91",
   "metadata": {},
   "outputs": [],
   "source": [
    "from lsst.daf.butler import Butler\n",
    "\n",
    "import matplotlib.pyplot as plt\n",
    "import numpy as np\n",
    "import os\n",
    "import lsst.afw.display as afwDisplay\n",
    "\n",
    "from firefly_client import FireflyClient"
   ]
  },
  {
   "cell_type": "markdown",
   "id": "26181ba8-382f-414d-ac20-53b525454012",
   "metadata": {},
   "source": [
    "#### Initialize the butler pointing to DP0.2 data:"
   ]
  },
  {
   "cell_type": "code",
   "execution_count": 2,
   "id": "fb394781-d7bd-4c81-8948-652bf306243c",
   "metadata": {},
   "outputs": [
    {
     "data": {
      "text/html": [
       "<pre style=\"margin: 0.1em;\n",
       "padding-left: 0.25em;\n",
       "border-left-style: solid;\n",
       "font-family: var(--jp-code-font-family);\n",
       "font-size: var(--jp-code-font-size);\n",
       "line-height: var(--jp-code-line-height);\n",
       "\"><span style=\"color: var(--jp-warn-color2)\">botocore.credentials</span> <span style=\"color: var(--jp-info-color0)\">INFO</span>: Found credentials in shared credentials file: /home/jeffcarlin/.lsst/aws-credentials.ini</pre>"
      ],
      "text/plain": [
       "<IPython.core.display.HTML object>"
      ]
     },
     "metadata": {},
     "output_type": "display_data"
    }
   ],
   "source": [
    "# For DP0.2 data on the IDF:                                                                                                           \n",
    "config = 'dp02'\n",
    "collection = '2.2i/runs/DP0.2'\n",
    "butler = Butler(config, collections=collection)"
   ]
  },
  {
   "cell_type": "markdown",
   "id": "54593370-279d-4815-8b77-e393cb6175ef",
   "metadata": {},
   "source": [
    "#### Select a single PVI (aka \"calexp\") and associated source catalog for examination"
   ]
  },
  {
   "cell_type": "code",
   "execution_count": 3,
   "id": "b8f828f5-5f66-42ae-9913-27e90db8f45d",
   "metadata": {},
   "outputs": [],
   "source": [
    "dataId = {'instrument': 'LSSTCam-imSim', 'detector': 78, 'visit': 60891, 'exposure':60891, 'band':'i'}"
   ]
  },
  {
   "cell_type": "code",
   "execution_count": 4,
   "id": "f687fd32-07e1-466e-a20e-6f82a605ec40",
   "metadata": {},
   "outputs": [],
   "source": [
    "# extract the WCS object, calexp image, psf model, and source list\n",
    "calexp = butler.get('calexp', dataId=dataId)\n",
    "src = butler.get('src', dataId=dataId)\n",
    "\n",
    "psf = calexp.getPsf()\n",
    "wcs = calexp.getWcs()"
   ]
  },
  {
   "cell_type": "markdown",
   "id": "60a84f8c-cfe2-4b71-ac4f-ccbfe98c6229",
   "metadata": {},
   "source": [
    "#### Examine the image to confirm that it has well-formed variance and mask planes, in addition to the calexp image."
   ]
  },
  {
   "cell_type": "code",
   "execution_count": 5,
   "id": "1c0ac8a5-935c-470c-8f9c-0f006b77f1ec",
   "metadata": {},
   "outputs": [],
   "source": [
    "afwDisplay.setDefaultBackend('firefly')\n",
    "afw_display = afwDisplay.Display(frame=1)\n",
    "\n",
    "# Set up some plotting defaults:\n",
    "\n",
    "params = {'axes.labelsize': 28,\n",
    "          'font.size': 24,\n",
    "          'legend.fontsize': 14,\n",
    "          'xtick.major.width': 3,\n",
    "          'xtick.minor.width': 2,\n",
    "          'xtick.major.size': 12,\n",
    "          'xtick.minor.size': 6,\n",
    "          'xtick.direction': 'in',\n",
    "          'xtick.top': True,\n",
    "          'lines.linewidth': 3,\n",
    "          'axes.linewidth': 3,\n",
    "          'axes.labelweight': 3,\n",
    "          'axes.titleweight': 3,\n",
    "          'ytick.major.width': 3,\n",
    "          'ytick.minor.width': 2,\n",
    "          'ytick.major.size': 12,\n",
    "          'ytick.minor.size': 6,\n",
    "          'ytick.direction': 'in',\n",
    "          'ytick.right': True,\n",
    "          'figure.figsize': [7, 7],\n",
    "          'figure.facecolor': 'White'\n",
    "          }\n",
    "\n",
    "plt.rcParams.update(params)"
   ]
  },
  {
   "cell_type": "code",
   "execution_count": 6,
   "id": "664e9c81-213d-4583-985d-3442486531bc",
   "metadata": {},
   "outputs": [],
   "source": [
    "# This opens the calexp in Firefly, where we will examine it:\n",
    "afw_display.mtv(calexp)"
   ]
  },
  {
   "cell_type": "code",
   "execution_count": 7,
   "id": "0f9178ea-782a-49de-a5b5-67257260cead",
   "metadata": {},
   "outputs": [],
   "source": [
    "afw_display2 = afwDisplay.Display(frame=2)\n",
    "afw_display2.mtv(calexp.variance)"
   ]
  },
  {
   "cell_type": "markdown",
   "id": "b7b8b1ed-4057-42e4-8a4a-12fc1dd77e75",
   "metadata": {},
   "source": [
    "#### Extract some statistics from the images:"
   ]
  },
  {
   "cell_type": "code",
   "execution_count": 8,
   "id": "a1d32792-c2ec-411a-ab98-03a9fc70ac07",
   "metadata": {},
   "outputs": [
    {
     "name": "stdout",
     "output_type": "stream",
     "text": [
      "  image           median     stddev    (of image pixel values)\n",
      "calexp:            1.298006 442.78458\n",
      "variance:          5865.997 649.1014\n"
     ]
    }
   ],
   "source": [
    "print('  image           median     stddev    (of image pixel values)')\n",
    "print('calexp:           ', np.nanmedian(calexp.image.array), np.nanstd(calexp.image.array))\n",
    "print('variance:         ', np.nanmedian(calexp.variance.array), np.nanstd(calexp.variance.array))"
   ]
  },
  {
   "cell_type": "markdown",
   "id": "91745b4b-dbac-49ce-b38e-072ccf3121df",
   "metadata": {},
   "source": [
    "These are as expected -- the calexp is sky-subtracted, so it has roughly zero median flux.\n",
    "\n",
    "#### Inspect the PSF and confirm that it varies with position:"
   ]
  },
  {
   "cell_type": "code",
   "execution_count": 9,
   "id": "c3fc5587-cf53-426e-8071-e5fab8f9e8a3",
   "metadata": {},
   "outputs": [],
   "source": [
    "import lsst.geom as geom\n",
    "\n",
    "pos1 = geom.Point2D(134.0, 1043.6)\n",
    "psf1 = psf.computeImage(pos1)\n",
    "\n",
    "pos2 = geom.Point2D(502.7, 96.2)\n",
    "psf2 = psf.computeImage(pos2)"
   ]
  },
  {
   "cell_type": "code",
   "execution_count": 10,
   "id": "553b6e3f-8079-41cd-8f61-4d9e1ecedb08",
   "metadata": {},
   "outputs": [],
   "source": [
    "psf1minus2_img = psf1.clone()\n",
    "psf1minus2_img -= psf2"
   ]
  },
  {
   "cell_type": "code",
   "execution_count": 11,
   "id": "616095a1-ef0b-4040-aa65-e1785d57d979",
   "metadata": {},
   "outputs": [
    {
     "data": {
      "image/png": "[encoded data removed]",
      "text/plain": [
       "<Figure size 936x504 with 6 Axes>"
      ]
     },
     "metadata": {
      "needs_background": "light"
     },
     "output_type": "display_data"
    }
   ],
   "source": [
    "afwDisplay.setDefaultBackend('matplotlib')\n",
    "\n",
    "fig, ax = plt.subplots(1, 3, figsize=(13, 7))\n",
    "\n",
    "plt.sca(ax[0])\n",
    "display0 = afwDisplay.Display(frame=fig)\n",
    "display0.scale(\"linear\", \"minmax\")\n",
    "display0.mtv(psf1)\n",
    "plt.title(\"PSF 1 image\")\n",
    "\n",
    "plt.sca(ax[1])\n",
    "display0 = afwDisplay.Display(frame=fig)\n",
    "display0.scale(\"linear\", \"minmax\")\n",
    "display0.mtv(psf2)\n",
    "plt.title(\"PSF 2 image\")\n",
    "\n",
    "plt.sca(ax[2])\n",
    "display0 = afwDisplay.Display(frame=fig)\n",
    "display0.scale(\"linear\", \"minmax\")\n",
    "display0.mtv(psf1minus2_img)\n",
    "plt.title(\"PSF 1 image - PSF 2 image\")\n",
    "\n",
    "plt.tight_layout()\n",
    "plt.show()"
   ]
  },
  {
   "cell_type": "markdown",
   "id": "76c9a2bd-5ad0-4350-8ce5-56ab027a617f",
   "metadata": {
    "tags": []
   },
   "source": [
    "#### Pick a source and confirm that conversions between XY and RA, Dec coordinates using the WCS object give values that match the catalog values. "
   ]
  },
  {
   "cell_type": "code",
   "execution_count": 12,
   "id": "44781d65-dc38-4a6b-ad38-ab342e495fa4",
   "metadata": {},
   "outputs": [
    {
     "name": "stdout",
     "output_type": "stream",
     "text": [
      "(X, Y): ( 1730.342687466467 ,  386.1185560155262 )\n",
      "(ra, dec): ( 71.89388932338906 ,  -37.34102758827357 )\n"
     ]
    }
   ],
   "source": [
    "cat_ind = 143\n",
    "\n",
    "x = src[cat_ind]['base_SdssCentroid_x']\n",
    "y = src[cat_ind]['base_SdssCentroid_y']\n",
    "\n",
    "ra = src[cat_ind]['coord_ra']\n",
    "dec = src[cat_ind]['coord_dec']\n",
    "\n",
    "print('(X, Y): (', x, ', ', y, ')')\n",
    "print('(ra, dec): (', ra.asDegrees(), ', ', dec.asDegrees(), ')')\n"
   ]
  },
  {
   "cell_type": "code",
   "execution_count": 13,
   "id": "56c52480-4b34-4250-9379-aafa081ae3a9",
   "metadata": {},
   "outputs": [
    {
     "name": "stdout",
     "output_type": "stream",
     "text": [
      "RA, Dec from X, Y:  (71.8938893234, -37.3410275883)\n",
      "X, Y from RA, Dec:  (1730.3, 386.12)\n",
      "Sky to pixel agrees!\n"
     ]
    }
   ],
   "source": [
    "print('RA, Dec from X, Y: ', wcs.pixelToSky(x, y))\n",
    "\n",
    "print('X, Y from RA, Dec: ', wcs.skyToPixel(geom.SpherePoint(ra, dec)))\n",
    "\n",
    "# Use asserts to confirm the values are equal:\n",
    "assert(np.allclose(wcs.skyToPixel(geom.SpherePoint(ra, dec)).x, x))\n",
    "assert(np.allclose(wcs.skyToPixel(geom.SpherePoint(ra, dec)).y, y))\n",
    "print('Sky to pixel agrees!')"
   ]
  },
  {
   "cell_type": "markdown",
   "id": "17729fae-fddb-455d-b002-6848923fc7a6",
   "metadata": {},
   "source": [
    "### Now repeat the same steps for a difference image"
   ]
  },
  {
   "cell_type": "code",
   "execution_count": 14,
   "id": "b43cdfd9-7074-43ba-9ac2-4c3825bf5e10",
   "metadata": {},
   "outputs": [],
   "source": [
    "diffim = butler.get('goodSeeingDiff_differenceExp', dataId=dataId)\n",
    "diasrc = butler.get('goodSeeingDiff_diaSrc', dataId=dataId)\n",
    "\n",
    "psf = calexp.getPsf()\n",
    "wcs = calexp.getWcs()"
   ]
  },
  {
   "cell_type": "code",
   "execution_count": 15,
   "id": "ef0b3c39-4a66-42d7-804e-2623af4b18c1",
   "metadata": {},
   "outputs": [],
   "source": [
    "afwDisplay.setDefaultBackend('firefly')\n",
    "afw_display = afwDisplay.Display(frame=1)"
   ]
  },
  {
   "cell_type": "code",
   "execution_count": 16,
   "id": "3c159b5f-4702-446a-8bed-d06190935bd1",
   "metadata": {},
   "outputs": [],
   "source": [
    "# This opens the calexp in Firefly, where we will examine it:\n",
    "afw_display.mtv(diffim)"
   ]
  },
  {
   "cell_type": "markdown",
   "id": "80c3154e-ce3c-497c-8b5c-f790a5184ce9",
   "metadata": {},
   "source": [
    "#### Extract some statistics from the images:"
   ]
  },
  {
   "cell_type": "code",
   "execution_count": 17,
   "id": "d5d24097-3337-49d7-b070-2eb87d67692d",
   "metadata": {},
   "outputs": [
    {
     "name": "stdout",
     "output_type": "stream",
     "text": [
      "  image           median     stddev    (of image pixel values)\n",
      "diffim:            -0.058853626 181.63496\n",
      "variance:          5900.847 nan\n"
     ]
    },
    {
     "name": "stderr",
     "output_type": "stream",
     "text": [
      "/opt/lsst/software/stack/conda/miniconda3-py38_4.9.2/envs/lsst-scipipe-4.1.0/lib/python3.10/site-packages/numpy/lib/nanfunctions.py:1545: RuntimeWarning: invalid value encountered in subtract\n",
      "  np.subtract(arr, avg, out=arr, casting='unsafe')\n"
     ]
    }
   ],
   "source": [
    "print('  image           median     stddev    (of image pixel values)')\n",
    "print('diffim:           ', np.nanmedian(diffim.image.array), np.nanstd(diffim.image.array))\n",
    "print('variance:         ', np.nanmedian(diffim.variance.array), np.nanstd(diffim.variance.array))"
   ]
  },
  {
   "cell_type": "markdown",
   "id": "1ada3254-0bfc-4a39-a3d2-585f6e4cca19",
   "metadata": {},
   "source": [
    "#### Inspect the PSF and confirm that it varies with position:"
   ]
  },
  {
   "cell_type": "code",
   "execution_count": 18,
   "id": "4ff97cc4-d85e-47c6-a1fb-9e29e5507d8d",
   "metadata": {},
   "outputs": [],
   "source": [
    "pos1 = geom.Point2D(134.0, 1043.6)\n",
    "psf1 = psf.computeImage(pos1)\n",
    "\n",
    "pos2 = geom.Point2D(502.7, 96.2)\n",
    "psf2 = psf.computeImage(pos2)\n",
    "\n",
    "psf1minus2_img = psf1.clone()\n",
    "psf1minus2_img -= psf2\n"
   ]
  },
  {
   "cell_type": "code",
   "execution_count": 19,
   "id": "2364d218-3a9a-4e38-9c0c-e9866e999d14",
   "metadata": {},
   "outputs": [
    {
     "data": {
      "image/png": "[encoded data removed]",
      "text/plain": [
       "<Figure size 936x504 with 6 Axes>"
      ]
     },
     "metadata": {
      "needs_background": "light"
     },
     "output_type": "display_data"
    }
   ],
   "source": [
    "afwDisplay.setDefaultBackend('matplotlib')\n",
    "\n",
    "fig, ax = plt.subplots(1, 3, figsize=(13, 7))\n",
    "\n",
    "plt.sca(ax[0])\n",
    "display0 = afwDisplay.Display(frame=fig)\n",
    "display0.scale(\"linear\", \"minmax\")\n",
    "display0.mtv(psf1)\n",
    "plt.title(\"PSF 1 image\")\n",
    "\n",
    "plt.sca(ax[1])\n",
    "display0 = afwDisplay.Display(frame=fig)\n",
    "display0.scale(\"linear\", \"minmax\")\n",
    "display0.mtv(psf2)\n",
    "plt.title(\"PSF 2 image\")\n",
    "\n",
    "plt.sca(ax[2])\n",
    "display0 = afwDisplay.Display(frame=fig)\n",
    "display0.scale(\"linear\", \"minmax\")\n",
    "display0.mtv(psf1minus2_img)\n",
    "plt.title(\"PSF 1 image - PSF 2 image\")\n",
    "\n",
    "plt.tight_layout()\n",
    "plt.show()"
   ]
  },
  {
   "cell_type": "markdown",
   "id": "fae7bff9-a69e-4089-ae3c-1e16092f68a6",
   "metadata": {},
   "source": [
    "#### Pick a source and confirm that conversions between XY and RA, Dec coordinates using the WCS object give values that match the catalog values. "
   ]
  },
  {
   "cell_type": "code",
   "execution_count": 20,
   "id": "74c341fe-5613-4d77-9a9b-fb30cf3f49e2",
   "metadata": {},
   "outputs": [
    {
     "name": "stdout",
     "output_type": "stream",
     "text": [
      "(X, Y): ( 2428.1824022462747 ,  2730.042250592946 )\n",
      "(ra, dec): ( 71.77813917941924 ,  -37.44087706845673 )\n"
     ]
    }
   ],
   "source": [
    "cat_ind = 43\n",
    "\n",
    "x = diasrc[cat_ind]['base_SdssCentroid_x']\n",
    "y = diasrc[cat_ind]['base_SdssCentroid_y']\n",
    "\n",
    "ra = diasrc[cat_ind]['coord_ra']\n",
    "dec = diasrc[cat_ind]['coord_dec']\n",
    "\n",
    "print('(X, Y): (', x, ', ', y, ')')\n",
    "print('(ra, dec): (', ra.asDegrees(), ', ', dec.asDegrees(), ')')"
   ]
  },
  {
   "cell_type": "code",
   "execution_count": 21,
   "id": "8924ebf5-4d1a-4f32-a03e-5384ba1de249",
   "metadata": {},
   "outputs": [
    {
     "name": "stdout",
     "output_type": "stream",
     "text": [
      "RA, Dec from X, Y:  (71.7781391794, -37.4408770685)\n",
      "X, Y from RA, Dec:  (2428.2, 2730)\n",
      "Sky to pixel agrees!\n"
     ]
    }
   ],
   "source": [
    "print('RA, Dec from X, Y: ', wcs.pixelToSky(x, y))\n",
    "\n",
    "print('X, Y from RA, Dec: ', wcs.skyToPixel(geom.SpherePoint(ra, dec)))\n",
    "\n",
    "# Use asserts to confirm the values are equal:\n",
    "assert(np.allclose(wcs.skyToPixel(geom.SpherePoint(ra, dec)).x, x))\n",
    "assert(np.allclose(wcs.skyToPixel(geom.SpherePoint(ra, dec)).y, y))\n",
    "print('Sky to pixel agrees!')"
   ]
  },
  {
   "cell_type": "markdown",
   "id": "c82782b6-0736-49fa-b796-6522f3a54871",
   "metadata": {},
   "source": [
    "We have now verified that all the expected data and attributes are present in PVIs."
   ]
  },
  {
   "cell_type": "code",
   "execution_count": null,
   "id": "4b27a2b3-9fe9-41d2-9d70-6d8f9537861f",
   "metadata": {},
   "outputs": [],
   "source": []
  }
 ],
 "metadata": {
  "kernelspec": {
   "display_name": "LSST",
   "language": "python",
   "name": "lsst"
  },
  "language_info": {
   "codemirror_mode": {
    "name": "ipython",
    "version": 3
   },
   "file_extension": ".py",
   "mimetype": "text/x-python",
   "name": "python",
   "nbconvert_exporter": "python",
   "pygments_lexer": "ipython3",
   "version": "3.10.5"
  }
 },
 "nbformat": 4,
 "nbformat_minor": 5
}
