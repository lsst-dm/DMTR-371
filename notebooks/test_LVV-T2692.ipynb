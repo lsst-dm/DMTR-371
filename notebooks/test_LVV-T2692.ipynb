{
 "cells": [
  {
   "cell_type": "markdown",
   "id": "a4c7b041-d90f-476b-81e1-5fec9773e009",
   "metadata": {},
   "source": [
    "## Test notebook for Data Management Acceptance Test Campaign 1\n",
    "This test will be executed on the Rubin Science Platform Notebook Aspect at the Interim Data Facility, initialized with Science Pipelines release w_2022_40.\n",
    "\n",
    "### Test case LVV-T2692: Verify implementation of Image Metadata Access\n",
    "\n",
    "Verify that available image data products' metadata can be listed and retrieved."
   ]
  },
  {
   "cell_type": "code",
   "execution_count": 1,
   "id": "330f2c5c-4a4f-4c1a-805d-3662e4359a91",
   "metadata": {},
   "outputs": [],
   "source": [
    "from lsst.daf.butler import Butler\n",
    "\n",
    "import matplotlib.pyplot as plt\n",
    "import numpy as np\n",
    "import lsst.afw.display as afwDisplay"
   ]
  },
  {
   "cell_type": "markdown",
   "id": "26181ba8-382f-414d-ac20-53b525454012",
   "metadata": {},
   "source": [
    "#### Initialize the butler pointing to DP0.2 data:"
   ]
  },
  {
   "cell_type": "code",
   "execution_count": 2,
   "id": "fb394781-d7bd-4c81-8948-652bf306243c",
   "metadata": {},
   "outputs": [
    {
     "data": {
      "text/html": [
       "<pre style=\"margin: 0.1em;\n",
       "padding-left: 0.25em;\n",
       "border-left-style: solid;\n",
       "font-family: var(--jp-code-font-family);\n",
       "font-size: var(--jp-code-font-size);\n",
       "line-height: var(--jp-code-line-height);\n",
       "\"><span style=\"color: var(--jp-warn-color2)\">botocore.credentials</span> <span style=\"color: var(--jp-info-color0)\">INFO</span>: Found credentials in shared credentials file: /home/jeffcarlin/.lsst/aws-credentials.ini</pre>"
      ],
      "text/plain": [
       "<IPython.core.display.HTML object>"
      ]
     },
     "metadata": {},
     "output_type": "display_data"
    }
   ],
   "source": [
    "# For DP0.2 data on the IDF:                                                                                                           \n",
    "config = 'dp02'\n",
    "collection = '2.2i/runs/DP0.2'\n",
    "butler = Butler(config, collections=collection)"
   ]
  },
  {
   "cell_type": "markdown",
   "id": "54593370-279d-4815-8b77-e393cb6175ef",
   "metadata": {},
   "source": [
    "#### Define some data dimensions to use for querying datasets:"
   ]
  },
  {
   "cell_type": "code",
   "execution_count": 3,
   "id": "b8f828f5-5f66-42ae-9913-27e90db8f45d",
   "metadata": {},
   "outputs": [],
   "source": [
    "tract = 3828\n",
    "patch = 42\n",
    "detector = 42"
   ]
  },
  {
   "cell_type": "markdown",
   "id": "76318180-abe1-457e-ad35-a67cab7f3fca",
   "metadata": {},
   "source": [
    "#### Execute a butler registry query to list `calexp` images that match the selected dimensions.\n",
    "\n",
    "Note that `calexps` are defined with dimensions of visit and detector, but here we supply tract and patch constraints. This demonstrates that the query is able to identify which visits overlap the patch/tract combination that has been provided."
   ]
  },
  {
   "cell_type": "code",
   "execution_count": 4,
   "id": "3853e8b5-664f-402a-8e43-48c45b02d2c5",
   "metadata": {},
   "outputs": [
    {
     "name": "stdout",
     "output_type": "stream",
     "text": [
      "{band: 'r', instrument: 'LSSTCam-imSim', detector: 42, physical_filter: 'r_sim_1.4', visit_system: 1, visit: 414872}\n",
      "{band: 'i', instrument: 'LSSTCam-imSim', detector: 42, physical_filter: 'i_sim_1.4', visit_system: 1, visit: 457676}\n",
      "{band: 'i', instrument: 'LSSTCam-imSim', detector: 42, physical_filter: 'i_sim_1.4', visit_system: 1, visit: 713247}\n",
      "{band: 'i', instrument: 'LSSTCam-imSim', detector: 42, physical_filter: 'i_sim_1.4', visit_system: 1, visit: 1013706}\n",
      "{band: 'y', instrument: 'LSSTCam-imSim', detector: 42, physical_filter: 'y_sim_1.4', visit_system: 1, visit: 1138156}\n",
      "{band: 'r', instrument: 'LSSTCam-imSim', detector: 42, physical_filter: 'r_sim_1.4', visit_system: 1, visit: 1155522}\n",
      "{band: 'z', instrument: 'LSSTCam-imSim', detector: 42, physical_filter: 'z_sim_1.4', visit_system: 1, visit: 1174350}\n",
      "{band: 'r', instrument: 'LSSTCam-imSim', detector: 42, physical_filter: 'r_sim_1.4', visit_system: 1, visit: 1192139}\n"
     ]
    }
   ],
   "source": [
    "data_refs = butler.registry.queryDatasets(\n",
    "    datasetType=\"calexp\",\n",
    "    where=f\"tract={tract} and patch={patch} and detector={detector} and skymap='DC2'\")\n",
    "\n",
    "data_ids = []\n",
    "\n",
    "for data_ref in data_refs:\n",
    "    print(data_ref.dataId.full)\n",
    "    data_ids.append(data_ref.dataId.full)"
   ]
  },
  {
   "cell_type": "markdown",
   "id": "60a84f8c-cfe2-4b71-ac4f-ccbfe98c6229",
   "metadata": {},
   "source": [
    "This demonstrates the ability to identify and list available imaging datasets via the Butler middleware.\n",
    "\n",
    "#### Select a dataref for a single PVI (aka \"calexp\") whose metadata we wish to examine\n",
    "\n",
    "We will use two methods to retrieve metadata:\n",
    "1. Using `queryDimensionRecords`\n",
    "2. Using `butler.get` to directly return a metadata `PropertySet`"
   ]
  },
  {
   "cell_type": "code",
   "execution_count": 5,
   "id": "1c0ac8a5-935c-470c-8f9c-0f006b77f1ec",
   "metadata": {},
   "outputs": [],
   "source": [
    "# Query dimension records takes a data dimension as its argument.\n",
    "#   First, specify \"patch\" associated with the given calexp dataref.\n",
    "\n",
    "calexp_patch_metadata = butler.registry.queryDimensionRecords('patch', dataId=data_ref.dataId.full)"
   ]
  },
  {
   "cell_type": "code",
   "execution_count": 6,
   "id": "235ea1ce-ab46-4eee-b222-11a946d3ead7",
   "metadata": {},
   "outputs": [
    {
     "data": {
      "text/plain": [
       "<lsst.daf.butler.registry.queries._results.DatabaseDimensionRecordQueryResults at 0x7fb47ff49c60>"
      ]
     },
     "execution_count": 6,
     "metadata": {},
     "output_type": "execute_result"
    }
   ],
   "source": [
    "# We will use the \"limit\" method to display only the first 3 query results:\n",
    "calexp_patch_metadata.limit(3)"
   ]
  },
  {
   "cell_type": "code",
   "execution_count": 7,
   "id": "28d9decf-6162-443b-bc08-c148f7366d52",
   "metadata": {},
   "outputs": [
    {
     "name": "stdout",
     "output_type": "stream",
     "text": [
      "patch:\n",
      "  skymap: 'DC2'\n",
      "  tract: 4026\n",
      "  id: 0\n",
      "  cell_x: 0\n",
      "  cell_y: 0\n",
      "  region: ConvexPolygon([UnitVector3d(0.43026204775397675, 0.6883194991736487, -0.5840298257108897), UnitVector3d(0.426896946056187, 0.6904343352140867, -0.5840029333876526), UnitVector3d(0.42814659142302663, 0.6923830193472248, -0.5807721160424839), UnitVector3d(0.4315119065467899, 0.690268177119236, -0.5807988620553948)])\n",
      "patch:\n",
      "  skymap: 'DC2'\n",
      "  tract: 3829\n",
      "  id: 19\n",
      "  cell_x: 5\n",
      "  cell_y: 2\n",
      "  region: ConvexPolygon([UnitVector3d(0.42706222892295265, 0.6775483644717809, -0.5987871628792442), UnitVector3d(0.4236043640607061, 0.6796989212363385, -0.5988060781412313), UnitVector3d(0.4248759374938216, 0.6817719119631012, -0.5955396693730179), UnitVector3d(0.4283338165808685, 0.6796212554150642, -0.5955208566971597)])\n",
      "patch:\n",
      "  skymap: 'DC2'\n",
      "  tract: 3829\n",
      "  id: 20\n",
      "  cell_x: 6\n",
      "  cell_y: 2\n",
      "  region: ConvexPolygon([UnitVector3d(0.430266519978582, 0.6755415112764768, -0.5987607104076004), UnitVector3d(0.4268977341587299, 0.6776510236528708, -0.5987882887234509), UnitVector3d(0.42816932162265264, 0.6797239201349891, -0.5955219764353962), UnitVector3d(0.43153810175768087, 0.6776142784825891, -0.5954945476894794)])\n"
     ]
    }
   ],
   "source": [
    "# Print each of the patch results:\n",
    "\n",
    "for md in calexp_patch_metadata:\n",
    "    print(md)"
   ]
  },
  {
   "cell_type": "code",
   "execution_count": 8,
   "id": "664e9c81-213d-4583-985d-3442486531bc",
   "metadata": {},
   "outputs": [
    {
     "name": "stdout",
     "output_type": "stream",
     "text": [
      "visit:\n",
      "  instrument: 'LSSTCam-imSim'\n",
      "  id: 1192139\n",
      "  physical_filter: 'r_sim_1.4'\n",
      "  visit_system: 1\n",
      "  name: '1192139'\n",
      "  day_obs: 20261013\n",
      "  exposure_time: 30.0\n",
      "  target_name: 'UNKNOWN'\n",
      "  observation_reason: 'imsim'\n",
      "  science_program: '1192139'\n",
      "  zenith_angle: 33.24096737781019\n",
      "  region: ConvexPolygon([UnitVector3d(0.4540277748455429, 0.6654318675118485, -0.5925024973521197), UnitVector3d(0.44361089583980434, 0.6666796471459634, -0.598955441726294), UnitVector3d(0.44013053225756876, 0.6670744011796488, -0.6010797433498173), UnitVector3d(0.4260404067595378, 0.6772198775092578, -0.5998856635347384), UnitVector3d(0.42474273135972046, 0.6804005906510217, -0.5972006768238172), UnitVector3d(0.42352041810442, 0.6833765117193251, -0.5946654510554521), UnitVector3d(0.416036425154166, 0.7010293564947697, -0.5791990454735497), UnitVector3d(0.41477118744011865, 0.7039234874245276, -0.5765904837244583), UnitVector3d(0.4214115188412533, 0.7114581756650987, -0.5623518436594634), UnitVector3d(0.425169183247371, 0.7110437231908872, -0.5600428459748454), UnitVector3d(0.42864039934343073, 0.7106424941030932, -0.5579020107739703), UnitVector3d(0.4321022500797612, 0.7102295896872688, -0.5557531605026296), UnitVector3d(0.4527659293386402, 0.7074880385949052, -0.54264508518483), UnitVector3d(0.4668616187641439, 0.6973281169728714, -0.5438508308387443), UnitVector3d(0.46822296389633905, 0.6942454178035495, -0.546617376177251), UnitVector3d(0.47200158939527126, 0.6854751220272934, -0.5543810572972394), UnitVector3d(0.47324331744303, 0.6825308145151987, -0.5569492344305135), UnitVector3d(0.4769213668942926, 0.6736166079988362, -0.5646119687252669), UnitVector3d(0.4781283304168948, 0.6706298531636404, -0.5671409874964662), UnitVector3d(0.47149361115917676, 0.6631017370072779, -0.5813689542915151), UnitVector3d(0.4678006327075857, 0.6636157674371148, -0.5837608082487481), UnitVector3d(0.4643763329318669, 0.6640830601476755, -0.5859593080049592)])\n",
      "  timespan: Timespan(begin=astropy.time.Time('2026-10-14 04:22:46.411200', scale='tai', format='iso'), end=astropy.time.Time('2026-10-14 04:23:16.411000', scale='tai', format='iso'))\n"
     ]
    }
   ],
   "source": [
    "calexp_visit_metadata = butler.registry.queryDimensionRecords('visit', dataId=data_ref.dataId.full)\n",
    "\n",
    "# Print each of the visit results:\n",
    "\n",
    "for md in calexp_visit_metadata:\n",
    "    print(md)"
   ]
  },
  {
   "cell_type": "code",
   "execution_count": 9,
   "id": "0f9178ea-782a-49de-a5b5-67257260cead",
   "metadata": {},
   "outputs": [
    {
     "name": "stdout",
     "output_type": "stream",
     "text": [
      "detector:\n",
      "  instrument: 'LSSTCam-imSim'\n",
      "  id: 42\n",
      "  full_name: 'R11_S20'\n",
      "  name_in_raft: 'S20'\n",
      "  raft: 'R11'\n",
      "  purpose: 'SCIENCE'\n"
     ]
    }
   ],
   "source": [
    "calexp_detector_metadata = butler.registry.queryDimensionRecords('detector', dataId=data_ref.dataId.full)\n",
    "\n",
    "# Print each of the visit results:\n",
    "\n",
    "for md in calexp_detector_metadata:\n",
    "    print(md)"
   ]
  },
  {
   "cell_type": "markdown",
   "id": "b7b8b1ed-4057-42e4-8a4a-12fc1dd77e75",
   "metadata": {},
   "source": [
    "We have demonstrated that metadata associated with a given dataref can be retrieved using the `queryDimensionRecords` method.\n",
    "\n",
    "#### Find and retrieve metadata directly with butler.get():\n",
    "\n",
    "First, query the dataset types in the butler to identify those with \"metadata\" in their name. We will further limit the results to those with a storage class of `PropertySet`."
   ]
  },
  {
   "cell_type": "code",
   "execution_count": 10,
   "id": "a1d32792-c2ec-411a-ab98-03a9fc70ac07",
   "metadata": {},
   "outputs": [
    {
     "name": "stdout",
     "output_type": "stream",
     "text": [
      "Returned  156  dataset types with metadata in them.\n"
     ]
    }
   ],
   "source": [
    "md_dataset_types = []\n",
    "\n",
    "for ds in butler.registry.queryDatasetTypes():\n",
    "    if \"metadata\" in ds.name and ds.storageClass_name == 'PropertySet':\n",
    "        # print(ds)\n",
    "        md_dataset_types.append(ds)\n",
    "\n",
    "print('Returned ', len(md_dataset_types), ' dataset types with metadata in them.')"
   ]
  },
  {
   "cell_type": "code",
   "execution_count": 11,
   "id": "760a73b2-1722-4b28-a937-a9d32480d818",
   "metadata": {},
   "outputs": [
    {
     "data": {
      "text/plain": [
       "[DatasetType('isr_metadata', {band, instrument, detector, physical_filter, exposure}, PropertySet),\n",
       " DatasetType('characterizeImage_metadata', {band, instrument, detector, physical_filter, visit_system, visit}, PropertySet),\n",
       " DatasetType('calibrate_metadata', {band, instrument, detector, physical_filter, visit_system, visit}, PropertySet)]"
      ]
     },
     "execution_count": 11,
     "metadata": {},
     "output_type": "execute_result"
    }
   ],
   "source": [
    "# Because the query returned a lot of results, print just the first 3 to the screen:\n",
    "\n",
    "md_dataset_types[0:3]"
   ]
  },
  {
   "cell_type": "markdown",
   "id": "91745b4b-dbac-49ce-b38e-072ccf3121df",
   "metadata": {},
   "source": [
    "#### Select `characterizeImage_metadata`, retrieve it, and examine its contents:"
   ]
  },
  {
   "cell_type": "code",
   "execution_count": 12,
   "id": "c3fc5587-cf53-426e-8071-e5fab8f9e8a3",
   "metadata": {},
   "outputs": [],
   "source": [
    "char_image_metadata = butler.get('characterizeImage_metadata', dataId = data_ref.dataId.full)"
   ]
  },
  {
   "cell_type": "code",
   "execution_count": 13,
   "id": "553b6e3f-8079-41cd-8f61-4d9e1ecedb08",
   "metadata": {},
   "outputs": [
    {
     "name": "stdout",
     "output_type": "stream",
     "text": [
      "\n",
      "\n",
      "\n",
      "\n",
      "\n",
      "\n",
      "runStartUtc = \"2022-01-03T14:26:50.961867\"\n",
      "runStartCpuTime = 10567.533159602\n",
      "runStartUserTime = 10185.162944000\n",
      "runStartSystemTime = 382.37023900000\n",
      "runStartMaxResidentSetSize = 3084460\n",
      "runStartMinorPageFaults = 99345461\n",
      "runStartMajorPageFaults = 8\n",
      "runStartBlockInputs = 63352\n",
      "runStartBlockOutputs = 78524216\n",
      "runStartVoluntaryContextSwitches = 2236644\n",
      "runStartInvoluntaryContextSwitches = 8650056\n",
      "runEndUtc = \"2022-01-03T14:26:50.967316\"\n",
      "runEndCpuTime = 10567.538608606\n",
      "runEndUserTime = 10185.168389000\n",
      "runEndSystemTime = 382.37023900000\n",
      "runEndMaxResidentSetSize = 3084460\n",
      "runEndMinorPageFaults = 99345461\n",
      "runEndMajorPageFaults = 8\n",
      "runEndBlockInputs = 63352\n",
      "runEndBlockOutputs = 78524216\n",
      "runEndVoluntaryContextSwitches = 2236644\n",
      "runEndInvoluntaryContextSwitches = 8650056\n",
      "\n",
      "runStartUtc = [ \"2022-01-03T14:25:57.523164\", \"2022-01-03T14:26:16.981683\", \"2022-01-03T14:26:37.941278\" ]\n",
      "runStartCpuTime = [ 10514.103577533, 10533.557925631, 10554.514201304 ]\n",
      "runStartUserTime = [ 10132.465631000, 10151.464010000, 10172.195154000 ]\n",
      "runStartSystemTime = [ 381.63795000000, 382.09391900000, 382.31905100000 ]\n",
      "runStartMaxResidentSetSize = [ 3084460, 3084460, 3084460 ]\n",
      "runStartMinorPageFaults = [ 98951755, 99200762, 99321361 ]\n",
      "runStartMajorPageFaults = [ 8, 8, 8 ]\n",
      "runStartBlockInputs = [ 63352, 63352, 63352 ]\n",
      "runStartBlockOutputs = [ 78524128, 78524152, 78524176 ]\n",
      "runStartVoluntaryContextSwitches = [ 2236644, 2236644, 2236644 ]\n",
      "runStartInvoluntaryContextSwitches = [ 8649887, 8649963, 8650026 ]\n",
      "runEndUtc = [ \"2022-01-03T14:26:12.508466\", \"2022-01-03T14:26:36.084003\", \"2022-01-03T14:26:50.702835\" ]\n",
      "runEndCpuTime = [ 10529.085279885, 10552.657168412, 10567.274154512 ]\n",
      "runEndUserTime = [ 10147.404214000, 10170.521036000, 10184.905936000 ]\n",
      "runEndSystemTime = [ 381.68108600000, 382.13615700000, 382.36823800000 ]\n",
      "runEndMaxResidentSetSize = [ 3084460, 3084460, 3084460 ]\n",
      "runEndMinorPageFaults = [ 98975855, 99224862, 99345461 ]\n",
      "runEndMajorPageFaults = [ 8, 8, 8 ]\n",
      "runEndBlockInputs = [ 63352, 63352, 63352 ]\n",
      "runEndBlockOutputs = [ 78524128, 78524152, 78524176 ]\n",
      "runEndVoluntaryContextSwitches = [ 2236644, 2236644, 2236644 ]\n",
      "runEndInvoluntaryContextSwitches = [ 8649953, 8650021, 8650056 ]\n",
      "\n",
      "runStartUtc = [ \"2022-01-03T14:25:54.412994\", \"2022-01-03T14:26:13.811762\", \"2022-01-03T14:26:37.456074\" ]\n",
      "runStartCpuTime = [ 10510.996766988, 10530.388403360, 10554.029049114 ]\n",
      "runStartUserTime = [ 10129.652685000, 10148.600369000, 10171.753012000 ]\n",
      "runStartSystemTime = [ 381.34409100000, 381.78804300000, 382.27605800000 ]\n",
      "runStartMaxResidentSetSize = [ 3084460, 3084460, 3084460 ]\n",
      "runStartMinorPageFaults = [ 98783340, 99032347, 99297261 ]\n",
      "runStartMajorPageFaults = [ 8, 8, 8 ]\n",
      "runStartBlockInputs = [ 63352, 63352, 63352 ]\n",
      "runStartBlockOutputs = [ 78524120, 78524144, 78524168 ]\n",
      "runStartVoluntaryContextSwitches = [ 2236644, 2236644, 2236644 ]\n",
      "runStartInvoluntaryContextSwitches = [ 8649849, 8649956, 8650025 ]\n",
      "runEndUtc = [ \"2022-01-03T14:25:54.959464\", \"2022-01-03T14:26:14.306662\", \"2022-01-03T14:26:37.941113\" ]\n",
      "runEndCpuTime = [ 10511.543161373, 10530.883253296, 10554.514033849 ]\n",
      "runEndUserTime = [ 10130.156109000, 10149.049255000, 10172.194998000 ]\n",
      "runEndSystemTime = [ 381.38706300000, 381.83400700000, 382.31904500000 ]\n",
      "runEndMaxResidentSetSize = [ 3084460, 3084460, 3084460 ]\n",
      "runEndMinorPageFaults = [ 98807440, 99056447, 99321361 ]\n",
      "runEndMajorPageFaults = [ 8, 8, 8 ]\n",
      "runEndBlockInputs = [ 63352, 63352, 63352 ]\n",
      "runEndBlockOutputs = [ 78524120, 78524144, 78524176 ]\n",
      "runEndVoluntaryContextSwitches = [ 2236644, 2236644, 2236644 ]\n",
      "runEndInvoluntaryContextSwitches = [ 8649850, 8649956, 8650026 ]\n",
      "\n",
      "\n",
      "\n",
      "runStartUtc = [ \"2022-01-03T14:26:12.508775\", \"2022-01-03T14:26:36.084357\" ]\n",
      "runStartCpuTime = [ 10529.085593241, 10552.657528151 ]\n",
      "runStartUserTime = [ 10147.404512000, 10170.521379000 ]\n",
      "runStartSystemTime = [ 381.68108600000, 382.13615700000 ]\n",
      "runStartMaxResidentSetSize = [ 3084460, 3084460 ]\n",
      "runStartMinorPageFaults = [ 98975855, 99224862 ]\n",
      "runStartMajorPageFaults = [ 8, 8 ]\n",
      "runStartBlockInputs = [ 63352, 63352 ]\n",
      "runStartBlockOutputs = [ 78524128, 78524152 ]\n",
      "runStartVoluntaryContextSwitches = [ 2236644, 2236644 ]\n",
      "runStartInvoluntaryContextSwitches = [ 8649953, 8650021 ]\n",
      "spatialFitChi2 = -nan\n",
      "numAvailStars = 91\n",
      "numGoodStars = 90\n",
      "avgX = 1965.9711647555\n",
      "avgY = 1852.6176847995\n",
      "runEndUtc = [ \"2022-01-03T14:26:13.527686\", \"2022-01-03T14:26:37.091698\" ]\n",
      "runEndCpuTime = [ 10530.104375847, 10553.664730357 ]\n",
      "runEndUserTime = [ 10148.379332000, 10171.481623000 ]\n",
      "runEndSystemTime = [ 381.72505600000, 382.18311900000 ]\n",
      "runEndMaxResidentSetSize = [ 3084460, 3084460 ]\n",
      "runEndMinorPageFaults = [ 98999956, 99248963 ]\n",
      "runEndMajorPageFaults = [ 8, 8 ]\n",
      "runEndBlockInputs = [ 63352, 63352 ]\n",
      "runEndBlockOutputs = [ 78524136, 78524168 ]\n",
      "runEndVoluntaryContextSwitches = [ 2236644, 2236644 ]\n",
      "runEndInvoluntaryContextSwitches = [ 8649955, 8650024 ]\n",
      "\n",
      "\n",
      "prepUtc = \"2022-01-03T14:25:52.473921\"\n",
      "prepCpuTime = 10509.250625222\n",
      "prepUserTime = 10128.019457000\n",
      "prepSystemTime = 381.23118200000\n",
      "prepMaxResidentSetSize = 3084460\n",
      "prepMinorPageFaults = 98735551\n",
      "prepMajorPageFaults = 8\n",
      "prepBlockInputs = 63264\n",
      "prepBlockOutputs = 78524112\n",
      "prepVoluntaryContextSwitches = 2236625\n",
      "prepInvoluntaryContextSwitches = 8649838\n",
      "initUtc = \"2022-01-03T14:25:52.715940\"\n",
      "initCpuTime = 10509.326661323\n",
      "initUserTime = 10128.092520000\n",
      "initSystemTime = 381.23416400000\n",
      "initMaxResidentSetSize = 3084460\n",
      "initMinorPageFaults = 98735551\n",
      "initMajorPageFaults = 8\n",
      "initBlockInputs = 63352\n",
      "initBlockOutputs = 78524112\n",
      "initVoluntaryContextSwitches = 2236643\n",
      "initInvoluntaryContextSwitches = 8649839\n",
      "startUtc = \"2022-01-03T14:25:52.730672\"\n",
      "startCpuTime = 10509.341366659\n",
      "startUserTime = 10128.107220000\n",
      "startSystemTime = 381.23416400000\n",
      "startMaxResidentSetSize = 3084460\n",
      "startMinorPageFaults = 98735551\n",
      "startMajorPageFaults = 8\n",
      "startBlockInputs = 63352\n",
      "startBlockOutputs = 78524112\n",
      "startVoluntaryContextSwitches = 2236643\n",
      "startInvoluntaryContextSwitches = 8649841\n",
      "endUtc = \"2022-01-03T14:26:55.105301\"\n",
      "endCpuTime = 10570.718522900\n",
      "endUserTime = 10187.975362000\n",
      "endSystemTime = 382.74317700000\n",
      "endMaxResidentSetSize = 3084460\n",
      "endMinorPageFaults = 99425014\n",
      "endMajorPageFaults = 8\n",
      "endBlockInputs = 63368\n",
      "endBlockOutputs = 78737128\n",
      "endVoluntaryContextSwitches = 2237025\n",
      "endInvoluntaryContextSwitches = 8650090\n",
      "\n",
      "\n",
      "\n",
      "runStartUtc = \"2022-01-03T14:25:53.647876\"\n",
      "runStartCpuTime = 10510.233003330\n",
      "runStartUserTime = 10128.954890000\n",
      "runStartSystemTime = 381.27813400000\n",
      "runStartMaxResidentSetSize = 3084460\n",
      "runStartMinorPageFaults = 98751460\n",
      "runStartMajorPageFaults = 8\n",
      "runStartBlockInputs = 63352\n",
      "runStartBlockOutputs = 78524112\n",
      "runStartVoluntaryContextSwitches = 2236644\n",
      "runStartInvoluntaryContextSwitches = 8649846\n",
      "detectMeasureAndEstimatePsfStartUtc = [ \"2022-01-03T14:25:54.411959\", \"2022-01-03T14:26:13.809831\" ]\n",
      "detectMeasureAndEstimatePsfStartCpuTime = [ 10510.995728121, 10530.386462896 ]\n",
      "detectMeasureAndEstimatePsfStartUserTime = [ 10129.651662000, 10148.598452000 ]\n",
      "detectMeasureAndEstimatePsfStartSystemTime = [ 381.34409100000, 381.78803000000 ]\n",
      "detectMeasureAndEstimatePsfStartMaxResidentSetSize = [ 3084460, 3084460 ]\n",
      "detectMeasureAndEstimatePsfStartMinorPageFaults = [ 98783340, 99032347 ]\n",
      "detectMeasureAndEstimatePsfStartMajorPageFaults = [ 8, 8 ]\n",
      "detectMeasureAndEstimatePsfStartBlockInputs = [ 63352, 63352 ]\n",
      "detectMeasureAndEstimatePsfStartBlockOutputs = [ 78524112, 78524136 ]\n",
      "detectMeasureAndEstimatePsfStartVoluntaryContextSwitches = [ 2236644, 2236644 ]\n",
      "detectMeasureAndEstimatePsfStartInvoluntaryContextSwitches = [ 8649849, 8649956 ]\n",
      "detectMeasureAndEstimatePsfEndUtc = [ \"2022-01-03T14:26:13.527943\", \"2022-01-03T14:26:37.091932\" ]\n",
      "detectMeasureAndEstimatePsfEndCpuTime = [ 10530.104635133, 10553.664967251 ]\n",
      "detectMeasureAndEstimatePsfEndUserTime = [ 10148.379575000, 10171.481845000 ]\n",
      "detectMeasureAndEstimatePsfEndSystemTime = [ 381.72506500000, 382.18312700000 ]\n",
      "detectMeasureAndEstimatePsfEndMaxResidentSetSize = [ 3084460, 3084460 ]\n",
      "detectMeasureAndEstimatePsfEndMinorPageFaults = [ 98999956, 99248963 ]\n",
      "detectMeasureAndEstimatePsfEndMajorPageFaults = [ 8, 8 ]\n",
      "detectMeasureAndEstimatePsfEndBlockInputs = [ 63352, 63352 ]\n",
      "detectMeasureAndEstimatePsfEndBlockOutputs = [ 78524136, 78524168 ]\n",
      "detectMeasureAndEstimatePsfEndVoluntaryContextSwitches = [ 2236644, 2236644 ]\n",
      "detectMeasureAndEstimatePsfEndInvoluntaryContextSwitches = [ 8649955, 8650024 ]\n",
      "runEndUtc = \"2022-01-03T14:26:50.967530\"\n",
      "runEndCpuTime = 10567.538827452\n",
      "runEndUserTime = 10185.168593000\n",
      "runEndSystemTime = 382.37023900000\n",
      "runEndMaxResidentSetSize = 3084460\n",
      "runEndMinorPageFaults = 99345461\n",
      "runEndMajorPageFaults = 8\n",
      "runEndBlockInputs = 63352\n",
      "runEndBlockOutputs = 78524216\n",
      "runEndVoluntaryContextSwitches = 2236644\n",
      "runEndInvoluntaryContextSwitches = 8650056\n",
      "\n",
      "runStartUtc = [ \"2022-01-03T14:25:54.960289\", \"2022-01-03T14:26:14.307410\" ]\n",
      "runStartCpuTime = [ 10511.543985633, 10530.884001770 ]\n",
      "runStartUserTime = [ 10130.156936000, 10149.050006000 ]\n",
      "runStartSystemTime = [ 381.38706300000, 381.83400700000 ]\n",
      "runStartMaxResidentSetSize = [ 3084460, 3084460 ]\n",
      "runStartMinorPageFaults = [ 98807440, 99056447 ]\n",
      "runStartMajorPageFaults = [ 8, 8 ]\n",
      "runStartBlockInputs = [ 63352, 63352 ]\n",
      "runStartBlockOutputs = [ 78524120, 78524144 ]\n",
      "runStartVoluntaryContextSwitches = [ 2236644, 2236644 ]\n",
      "runStartInvoluntaryContextSwitches = [ 8649850, 8649956 ]\n",
      "detectFootprintsStartUtc = [ \"2022-01-03T14:25:54.960434\", \"2022-01-03T14:26:14.307538\" ]\n",
      "detectFootprintsStartCpuTime = [ 10511.544135277, 10530.884132418 ]\n",
      "detectFootprintsStartUserTime = [ 10130.157075000, 10149.050128000 ]\n",
      "detectFootprintsStartSystemTime = [ 381.38706300000, 381.83400700000 ]\n",
      "detectFootprintsStartMaxResidentSetSize = [ 3084460, 3084460 ]\n",
      "detectFootprintsStartMinorPageFaults = [ 98807440, 99056447 ]\n",
      "detectFootprintsStartMajorPageFaults = [ 8, 8 ]\n",
      "detectFootprintsStartBlockInputs = [ 63352, 63352 ]\n",
      "detectFootprintsStartBlockOutputs = [ 78524120, 78524144 ]\n",
      "detectFootprintsStartVoluntaryContextSwitches = [ 2236644, 2236644 ]\n",
      "detectFootprintsStartInvoluntaryContextSwitches = [ 8649850, 8649956 ]\n",
      "doSmooth = 1\n",
      "sigma = 1.8515346667980\n",
      "smoothingKernelWidth = 13\n",
      "nGrow = 4\n",
      "detectFootprintsEndUtc = [ \"2022-01-03T14:25:57.522184\", \"2022-01-03T14:26:16.980722\" ]\n",
      "detectFootprintsEndCpuTime = [ 10514.102591908, 10533.556957877 ]\n",
      "detectFootprintsEndUserTime = [ 10132.464696000, 10151.463064000 ]\n",
      "detectFootprintsEndSystemTime = [ 381.63792100000, 382.09391900000 ]\n",
      "detectFootprintsEndMaxResidentSetSize = [ 3084460, 3084460 ]\n",
      "detectFootprintsEndMinorPageFaults = [ 98951755, 99200762 ]\n",
      "detectFootprintsEndMajorPageFaults = [ 8, 8 ]\n",
      "detectFootprintsEndBlockInputs = [ 63352, 63352 ]\n",
      "detectFootprintsEndBlockOutputs = [ 78524128, 78524152 ]\n",
      "detectFootprintsEndVoluntaryContextSwitches = [ 2236644, 2236644 ]\n",
      "detectFootprintsEndInvoluntaryContextSwitches = [ 8649887, 8649963 ]\n",
      "runEndUtc = [ \"2022-01-03T14:25:57.522993\", \"2022-01-03T14:26:16.981538\" ]\n",
      "runEndCpuTime = [ 10514.103401969, 10533.557777330 ]\n",
      "runEndUserTime = [ 10132.465465000, 10151.463869000 ]\n",
      "runEndSystemTime = [ 381.63795000000, 382.09391900000 ]\n",
      "runEndMaxResidentSetSize = [ 3084460, 3084460 ]\n",
      "runEndMinorPageFaults = [ 98951755, 99200762 ]\n",
      "runEndMajorPageFaults = [ 8, 8 ]\n",
      "runEndBlockInputs = [ 63352, 63352 ]\n",
      "runEndBlockOutputs = [ 78524128, 78524152 ]\n",
      "runEndVoluntaryContextSwitches = [ 2236644, 2236644 ]\n",
      "runEndInvoluntaryContextSwitches = [ 8649887, 8649963 ]\n",
      "\n",
      "\n"
     ]
    }
   ],
   "source": [
    "for v in char_image_metadata.values():\n",
    "    print(v)"
   ]
  },
  {
   "cell_type": "markdown",
   "id": "68f2e5bc-6420-4b5f-a43f-c792130e2b5a",
   "metadata": {},
   "source": [
    "This search returned a different type of metadata than the first query, consisting primarily of information about configuration of the characterizeImage tasks and when they were executed.\n",
    "\n",
    "We have now demonstrated two ways that metadata can be identified and retrieved."
   ]
  },
  {
   "cell_type": "code",
   "execution_count": null,
   "id": "ae8f60fb-ad78-4f9c-a5b7-198dcc378d7e",
   "metadata": {},
   "outputs": [],
   "source": []
  }
 ],
 "metadata": {
  "kernelspec": {
   "display_name": "LSST",
   "language": "python",
   "name": "lsst"
  },
  "language_info": {
   "codemirror_mode": {
    "name": "ipython",
    "version": 3
   },
   "file_extension": ".py",
   "mimetype": "text/x-python",
   "name": "python",
   "nbconvert_exporter": "python",
   "pygments_lexer": "ipython3",
   "version": "3.10.5"
  }
 },
 "nbformat": 4,
 "nbformat_minor": 5
}
